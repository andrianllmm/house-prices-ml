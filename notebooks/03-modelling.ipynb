{
 "cells": [
  {
   "cell_type": "markdown",
   "id": "c96e64a8",
   "metadata": {},
   "source": [
    "# Modelling"
   ]
  },
  {
   "cell_type": "code",
   "execution_count": 8,
   "id": "4cc94480",
   "metadata": {},
   "outputs": [
    {
     "name": "stdout",
     "output_type": "stream",
     "text": [
      "The autoreload extension is already loaded. To reload it, use:\n",
      "  %reload_ext autoreload\n"
     ]
    }
   ],
   "source": [
    "%load_ext autoreload\n",
    "%autoreload 2\n",
    "\n",
    "import pandas as pd\n",
    "from sklearn.model_selection import train_test_split\n",
    "from xgboost import XGBRegressor\n",
    "\n",
    "from house_prices_ml.config import RAW_DATA_DIR, TARGET\n",
    "from house_prices_ml.modelling import build_pipeline, tune_hyperparameters, evaluate_model"
   ]
  },
  {
   "cell_type": "code",
   "execution_count": 3,
   "id": "9d6dd328",
   "metadata": {},
   "outputs": [],
   "source": [
    "train = pd.read_csv(RAW_DATA_DIR / \"train.csv\", index_col='Id') \n",
    "X = train.drop(TARGET, axis=1)\n",
    "y = train[TARGET]\n",
    "X_train, X_val, y_train, y_val = train_test_split(X, y, test_size=0.2, random_state=42)"
   ]
  },
  {
   "cell_type": "code",
   "execution_count": 4,
   "id": "954585e0",
   "metadata": {},
   "outputs": [
    {
     "name": "stdout",
     "output_type": "stream",
     "text": [
      "Fitting 5 folds for each of 50 candidates, totalling 250 fits\n"
     ]
    }
   ],
   "source": [
    "model = XGBRegressor(random_state=42)\n",
    "\n",
    "pipeline = build_pipeline(model)\n",
    "\n",
    "search = tune_hyperparameters(pipeline, X_train, y_train)"
   ]
  },
  {
   "cell_type": "code",
   "execution_count": 5,
   "id": "810d90c3",
   "metadata": {},
   "outputs": [],
   "source": [
    "best_model = search.best_estimator_"
   ]
  },
  {
   "cell_type": "code",
   "execution_count": 9,
   "id": "9a92ad00",
   "metadata": {},
   "outputs": [
    {
     "name": "stdout",
     "output_type": "stream",
     "text": [
      "Train MSE: 0.11\n",
      "Validation MSE: 0.13\n",
      "Search best score: 0.8655501961708069\n"
     ]
    }
   ],
   "source": [
    "y_train_pred = best_model.predict(X_train)\n",
    "train_mse = evaluate_model(y_train, y_train_pred)\n",
    "\n",
    "y_val_pred = best_model.predict(X_val)\n",
    "val_mse = evaluate_model(y_val, y_val_pred)\n",
    "\n",
    "print(f\"Train MSE: {train_mse:,.2f}\")\n",
    "print(f\"Validation MSE: {val_mse:,.2f}\")\n",
    "print(f\"Search best score: {search.best_score_}\")"
   ]
  }
 ],
 "metadata": {
  "kernelspec": {
   "display_name": "house-prices-ml-py3.10",
   "language": "python",
   "name": "python3"
  },
  "language_info": {
   "codemirror_mode": {
    "name": "ipython",
    "version": 3
   },
   "file_extension": ".py",
   "mimetype": "text/x-python",
   "name": "python",
   "nbconvert_exporter": "python",
   "pygments_lexer": "ipython3",
   "version": "3.10.12"
  }
 },
 "nbformat": 4,
 "nbformat_minor": 5
}
